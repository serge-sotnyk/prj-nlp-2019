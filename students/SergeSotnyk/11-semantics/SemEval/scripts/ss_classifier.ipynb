{
 "cells": [
  {
   "cell_type": "code",
   "execution_count": 1,
   "metadata": {},
   "outputs": [],
   "source": [
    "import sys\n",
    "sys.path.append('..')"
   ]
  },
  {
   "cell_type": "code",
   "execution_count": 2,
   "metadata": {},
   "outputs": [
    {
     "name": "stderr",
     "output_type": "stream",
     "text": [
      "Using TensorFlow backend.\n"
     ]
    },
    {
     "name": "stdout",
     "output_type": "stream",
     "text": [
      "WARNING:tensorflow:From C:\\Users\\ssotn\\Anaconda3\\envs\\nlp\\lib\\site-packages\\tensorflow\\python\\framework\\op_def_library.py:263: colocate_with (from tensorflow.python.framework.ops) is deprecated and will be removed in a future version.\n",
      "Instructions for updating:\n",
      "Colocations handled automatically by placer.\n",
      "WARNING:tensorflow:From C:\\Users\\ssotn\\Anaconda3\\envs\\nlp\\lib\\site-packages\\keras\\backend\\tensorflow_backend.py:3445: calling dropout (from tensorflow.python.ops.nn_ops) with keep_prob is deprecated and will be removed in a future version.\n",
      "Instructions for updating:\n",
      "Please use `rate` instead of `keep_prob`. Rate should be set to `rate = 1 - keep_prob`.\n"
     ]
    }
   ],
   "source": [
    "from sklearn.metrics import classification_report\n",
    "\n",
    "from baseline_logisticregression import readInData\n",
    "from typing import NamedTuple, List\n",
    "from bert_utils import calc_entailment_prob\n",
    "from sklearn.ensemble import RandomForestClassifier\n",
    "from tqdm.auto import tqdm\n",
    "import os"
   ]
  },
  {
   "cell_type": "code",
   "execution_count": 3,
   "metadata": {},
   "outputs": [],
   "source": [
    "class RawInput(NamedTuple):\n",
    "    twit0: str\n",
    "    twit1: str"
   ]
  },
  {
   "cell_type": "code",
   "execution_count": 4,
   "metadata": {},
   "outputs": [],
   "source": [
    "def load_data(fn: str)->(List[RawInput],List[bool]):\n",
    "    print(f\"Start to read '{fn}'\")\n",
    "    data, trends = readInData(fn)\n",
    "    print(\"Total records:\", len(data))\n",
    "    print(\"True samples:\", sum([1 for r in data if r[1]]))\n",
    "    print(\"False samples:\", sum([1 for r in data if not r[1]]))\n",
    "    return [RawInput(r[2], r[3]) for r in data], [r[1] for r in data]"
   ]
  },
  {
   "cell_type": "code",
   "execution_count": 5,
   "metadata": {},
   "outputs": [],
   "source": [
    "def featurize(x_raw: List[RawInput])->List[List[float]]:\n",
    "    res = []\n",
    "    for r in tqdm(x_raw):\n",
    "        p = calc_entailment_prob(r.twit0, r.twit1)\n",
    "        pb = calc_entailment_prob(r.twit1, r.twit0)\n",
    "        res.append([p[0], p[1], pb[0], pb[1]])\n",
    "    return res"
   ]
  },
  {
   "cell_type": "code",
   "execution_count": 6,
   "metadata": {},
   "outputs": [
    {
     "name": "stdout",
     "output_type": "stream",
     "text": [
      "Start to read '../data/train.data'\n",
      "Total records: 11530\n",
      "True samples: 3996\n",
      "False samples: 7534\n",
      "Start to read '../data/dev.data'\n",
      "Total records: 4142\n",
      "True samples: 1470\n",
      "False samples: 2672\n",
      "Start to read '../data/test.data'\n",
      "Total records: 972\n",
      "True samples: 175\n",
      "False samples: 797\n"
     ]
    }
   ],
   "source": [
    "x_train_raw, y_train = load_data('../data/train.data')\n",
    "x_dev_raw, y_dev = load_data('../data/dev.data')\n",
    "x_test_raw, y_test = load_data('../data/test.data')"
   ]
  },
  {
   "cell_type": "code",
   "execution_count": 7,
   "metadata": {},
   "outputs": [
    {
     "name": "stdout",
     "output_type": "stream",
     "text": [
      "RawInput(twit0='EJ Manuel the 1st QB to go in this draft', twit1='But my bro from the 757 EJ Manuel is the 1st QB gone')\n",
      "RawInput(twit0='EJ Manuel the 1st QB to go in this draft', twit1='Can believe EJ Manuel went as the 1st QB in the draft')\n",
      "RawInput(twit0='EJ Manuel the 1st QB to go in this draft', twit1='EJ MANUEL IS THE 1ST QB what')\n",
      "RawInput(twit0='EJ Manuel the 1st QB to go in this draft', twit1='Manuel is the 1st QB to get drafted')\n",
      "RawInput(twit0='EJ Manuel the 1st QB to go in this draft', twit1='My boy EJ Manuel being the 1st QB picked')\n",
      "RawInput(twit0='EJ Manuel the 1st QB to go in this draft', twit1='Not surprised EJ Manuel was 1st QB taken')\n",
      "RawInput(twit0='EJ Manuel the 1st QB to go in this draft', twit1='WOW EJ MANUEL FSU 1ST QB TAKEN')\n",
      "RawInput(twit0='EJ Manuel the 1st QB to go in this draft', twit1='Wow EJ Manuel 1st QB taken in the draft')\n",
      "RawInput(twit0='EJ Manuel the 1st QB to go in this draft', twit1='if EJ is the 1st QB off the board')\n",
      "RawInput(twit0='So EJ Manuel is the 1st QB taken', twit1='Bills take EJ Manuel QBFlorida State 1st QB off the board')\n"
     ]
    }
   ],
   "source": [
    "for r in x_train_raw[:10]:\n",
    "    print(r)"
   ]
  },
  {
   "cell_type": "markdown",
   "metadata": {},
   "source": [
    "## BERT features"
   ]
  },
  {
   "cell_type": "code",
   "execution_count": 8,
   "metadata": {},
   "outputs": [],
   "source": [
    "def load_bert_features(fn: str):\n",
    "    with open(fn, 'rt', encoding='utf-8') as f:\n",
    "        res = []\n",
    "        for l in f:\n",
    "            fs = l.strip().split('\\t')\n",
    "            res.append([float(feature) for feature in fs])\n",
    "    return res"
   ]
  },
  {
   "cell_type": "code",
   "execution_count": 9,
   "metadata": {},
   "outputs": [
    {
     "name": "stdout",
     "output_type": "stream",
     "text": [
      "Start featurizing...\n",
      "Done!\n"
     ]
    }
   ],
   "source": [
    "print(\"Start featurizing...\")\n",
    "if not os.path.isfile('../data/bert.train.data'):\n",
    "    x_train_bert_features = featurize(x_train_raw)\n",
    "    x_dev_bert_features = featurize(x_dev_raw)\n",
    "    x_test_bert_features = featurize(x_test_raw)\n",
    "else:\n",
    "    x_train_bert_features = load_bert_features('../data/bert.train.data')\n",
    "    x_dev_bert_features = load_bert_features('../data/bert.dev.data')\n",
    "    x_test_bert_features = load_bert_features('../data/bert.test.data')\n",
    "\n",
    "print(\"Done!\")"
   ]
  },
  {
   "cell_type": "code",
   "execution_count": 10,
   "metadata": {},
   "outputs": [],
   "source": [
    "def save_bert_features(x, filename):\n",
    "    with open(filename, 'wt', encoding='utf-8') as f:\n",
    "        lines = ['\\t'.join([str(row[0]),str(row[1]),str(row[2]),str(row[3])]) for row in x]\n",
    "        tsv_str = '\\n'.join(lines)\n",
    "        f.write(tsv_str)"
   ]
  },
  {
   "cell_type": "code",
   "execution_count": 11,
   "metadata": {},
   "outputs": [],
   "source": [
    "if not os.path.isfile('../data/bert.train.data'):\n",
    "    save_bert_features(x_train_bert_features, '../data/bert.train.data')\n",
    "    save_bert_features(x_dev_bert_features, '../data/bert.dev.data')\n",
    "    save_bert_features(x_test_bert_features, '../data/bert.test.data')"
   ]
  },
  {
   "cell_type": "markdown",
   "metadata": {},
   "source": [
    "## LEN features"
   ]
  },
  {
   "cell_type": "code",
   "execution_count": 12,
   "metadata": {},
   "outputs": [],
   "source": [
    "def featurize_len(x_raw: List[RawInput]) -> List[List[float]]:\n",
    "    res = []\n",
    "    for r in x_raw:\n",
    "        res.append([len(r.twit0)/len(r.twit1), len(r.twit0)/100, len(r.twit1)/100])\n",
    "    return res"
   ]
  },
  {
   "cell_type": "code",
   "execution_count": 13,
   "metadata": {},
   "outputs": [
    {
     "name": "stdout",
     "output_type": "stream",
     "text": [
      "Start featurizing...\n",
      "Done!\n"
     ]
    }
   ],
   "source": [
    "print(\"Start featurizing...\")\n",
    "x_train_len_features = featurize_len(x_train_raw)\n",
    "x_dev_len_features = featurize_len(x_dev_raw)\n",
    "x_test_len_features = featurize_len(x_test_raw)\n",
    "print(\"Done!\")"
   ]
  },
  {
   "cell_type": "code",
   "execution_count": 14,
   "metadata": {},
   "outputs": [],
   "source": [
    "def report(y_true, y_pred):\n",
    "    y_true_cleaned, y_pred_cleaned = [], []\n",
    "    for t, p in zip(y_true, y_pred):\n",
    "        if t is not None:\n",
    "            y_true_cleaned.append(t)\n",
    "            y_pred_cleaned.append(p)\n",
    "    print(classification_report(y_true_cleaned, y_pred_cleaned))"
   ]
  },
  {
   "cell_type": "markdown",
   "metadata": {},
   "source": [
    "## bpemb"
   ]
  },
  {
   "cell_type": "code",
   "execution_count": 15,
   "metadata": {},
   "outputs": [
    {
     "name": "stdout",
     "output_type": "stream",
     "text": [
      "BPEmb(lang=en, vs=10000, dim=300)\n"
     ]
    }
   ],
   "source": [
    "from bpemb import BPEmb\n",
    "from scipy import spatial\n",
    "from sklearn.metrics.pairwise import cosine_similarity\n",
    "import numpy as np\n",
    "from nltk.corpus import stopwords\n",
    "from nltk import word_tokenize\n",
    "\n",
    "emb = BPEmb(lang='en', dim = 300)\n",
    "print(emb)"
   ]
  },
  {
   "cell_type": "code",
   "execution_count": 16,
   "metadata": {},
   "outputs": [
    {
     "name": "stdout",
     "output_type": "stream",
     "text": [
      "['like', 'move', 'move']\n"
     ]
    }
   ],
   "source": [
    "STOP_WORDS = stopwords.words('english')\n",
    "\n",
    "def tokenize_filter(text: str, trace:bool=False)->List[str]:\n",
    "    if trace:\n",
    "        print(text)\n",
    "    tokens = word_tokenize(text)\n",
    "    if trace:\n",
    "        print(tokens)\n",
    "        \n",
    "    tokens = [t for t in tokens if t.lower() not in STOP_WORDS]\n",
    "    #tokens = [t for t in tokens if t.isalpha()]\n",
    "    if trace:\n",
    "        print(tokens)\n",
    "    return tokens\n",
    "\n",
    "print(tokenize_filter('I like to move it move it'))"
   ]
  },
  {
   "cell_type": "code",
   "execution_count": 17,
   "metadata": {},
   "outputs": [
    {
     "name": "stdout",
     "output_type": "stream",
     "text": [
      "[[0.06752275675535202]]\n",
      "[[0.9628931283950806]]\n"
     ]
    }
   ],
   "source": [
    "def calc_emb(text, delete_stopwords: bool=False):\n",
    "    if delete_stopwords:\n",
    "        text = ' '.join(tokenize_filter(text))\n",
    "    res = np.zeros(emb.vectors.shape[1], dtype=np.float32)\n",
    "    # tokens = word_tokenize(text)\n",
    "    # for t in tokens:\n",
    "    embs = emb.embed(text.casefold())\n",
    "    for e in embs:\n",
    "        res += e\n",
    "    n = len(embs)\n",
    "    if n:\n",
    "        res /= n\n",
    "    return res\n",
    "\n",
    "def featurize_emb(x_raw: List[RawInput]) -> List[List[float]]:\n",
    "    res = []\n",
    "    for r in x_raw:\n",
    "        emb0 = calc_emb(r.twit0, True) \n",
    "        emb1 = calc_emb(r.twit1, True)\n",
    "        cos_symilarity = 1 - spatial.distance.cosine(emb0, emb1)\n",
    "        res.append([cos_symilarity])\n",
    "    return res\n",
    "\n",
    "print(featurize_emb([RawInput('Twit1 experiment', 'Some text')]))\n",
    "print(featurize_emb([RawInput('I like to move it move it', 'I like to move it')]))"
   ]
  },
  {
   "cell_type": "code",
   "execution_count": 18,
   "metadata": {},
   "outputs": [
    {
     "name": "stdout",
     "output_type": "stream",
     "text": [
      "Start featurizing...\n",
      "Done!\n"
     ]
    }
   ],
   "source": [
    "print(\"Start featurizing...\")\n",
    "x_train_emb_features = featurize_emb(x_train_raw)\n",
    "x_dev_emb_features = featurize_emb(x_dev_raw)\n",
    "x_test_emb_features = featurize_emb(x_test_raw)\n",
    "print(\"Done!\")"
   ]
  },
  {
   "cell_type": "markdown",
   "metadata": {},
   "source": [
    "## Numberbatch"
   ]
  },
  {
   "cell_type": "code",
   "execution_count": 19,
   "metadata": {},
   "outputs": [],
   "source": [
    "from gensim.models import KeyedVectors"
   ]
  },
  {
   "cell_type": "code",
   "execution_count": 20,
   "metadata": {},
   "outputs": [
    {
     "name": "stdout",
     "output_type": "stream",
     "text": [
      "loading word vectors\n",
      "loading word vectors finished\n"
     ]
    }
   ],
   "source": [
    "print('loading word vectors')\n",
    "word_vectors = KeyedVectors.load_word2vec_format(\"d:/nlp/vectors/numberbatch-en-17.06.txt.gz\", binary=False)\n",
    "print('loading word vectors finished')"
   ]
  },
  {
   "cell_type": "code",
   "execution_count": 21,
   "metadata": {},
   "outputs": [
    {
     "name": "stdout",
     "output_type": "stream",
     "text": [
      "[[0.541184628215287]]\n",
      "[[0.9367074744120422]]\n",
      "RawInput(twit0='EJ Manuel the 1st QB to go in this draft', twit1='But my bro from the 757 EJ Manuel is the 1st QB gone')\n",
      "[[0.7664519039066737]]\n"
     ]
    }
   ],
   "source": [
    "import math\n",
    "def featurize_nb(x_raw: List[RawInput], delete_stopwords: bool=False) -> List[List[float]]:\n",
    "    res = []\n",
    "    for r in x_raw:\n",
    "        twit0 = r.twit0.lower()\n",
    "        twit1 = r.twit1.lower()\n",
    "        if delete_stopwords:\n",
    "            twit0 = ' '.join(tokenize_filter(twit0))\n",
    "            twit1 = ' '.join(tokenize_filter(twit1))\n",
    "        sym = 1-word_vectors.wmdistance(twit0, twit1) \n",
    "        if sym == -math.inf:\n",
    "            print(\"-inf for \", r)\n",
    "            sym = 1\n",
    "        res.append([sym])\n",
    "    return res\n",
    "\n",
    "print(featurize_nb([RawInput('Twit1 experiment', 'Some text')]))\n",
    "print(featurize_nb([RawInput('I like to move it move it', 'I like to move it')]))\n",
    "print(x_train_raw[0])\n",
    "print(featurize_nb([x_train_raw[2]]))"
   ]
  },
  {
   "cell_type": "code",
   "execution_count": 22,
   "metadata": {},
   "outputs": [
    {
     "name": "stdout",
     "output_type": "stream",
     "text": [
      "Start featurizing...\n",
      "Done!\n"
     ]
    }
   ],
   "source": [
    "print(\"Start featurizing...\")\n",
    "x_train_nb_features = featurize_nb(x_train_raw)\n",
    "x_dev_nb_features = featurize_nb(x_dev_raw)\n",
    "x_test_nb_features = featurize_nb(x_test_raw)\n",
    "print(\"Done!\")"
   ]
  },
  {
   "cell_type": "code",
   "execution_count": 23,
   "metadata": {},
   "outputs": [
    {
     "name": "stdout",
     "output_type": "stream",
     "text": [
      "[[0.7498249189151303], [0.7703056647189214], [0.7664519039066737], [0.8661652827015432], [0.7286935032912113], [0.7427941822826905], [0.7012285319810363], [0.8230706304511168], [0.775967100570345], [0.7417885924345241]]\n"
     ]
    }
   ],
   "source": [
    "print(x_train_nb_features[:10])"
   ]
  },
  {
   "cell_type": "markdown",
   "metadata": {},
   "source": [
    "## Glue features"
   ]
  },
  {
   "cell_type": "code",
   "execution_count": 24,
   "metadata": {},
   "outputs": [
    {
     "name": "stdout",
     "output_type": "stream",
     "text": [
      "[[1, 6], [2, 7], [3, 8], [4, 9], [5, 10]]\n",
      "[[1, 6, 11], [2, 7, 12], [3, 8, 13], [4, 9, 14], [5, 10, 15]]\n"
     ]
    }
   ],
   "source": [
    "#import copy\n",
    "\n",
    "def glue_features(*f_lists):\n",
    "    #f_first, f_others = f_lists\n",
    "    #res = copy.deepcopy(f_first)\n",
    "    res = []\n",
    "    for rows in zip(*f_lists):\n",
    "        row = []\n",
    "        for columns in rows:\n",
    "            row+=columns\n",
    "        res.append(row)\n",
    "    return res\n",
    "\n",
    "tst1, tst2 = [[1],[2],[3],[4],[5]], [[6],[7],[8],[9],[10]]\n",
    "print(glue_features(tst1, tst2))\n",
    "tst3 = [[11],[12],[13],[14],[15]]\n",
    "print(glue_features(tst1, tst2, tst3))"
   ]
  },
  {
   "cell_type": "markdown",
   "metadata": {},
   "source": [
    "## The best classifier"
   ]
  },
  {
   "cell_type": "code",
   "execution_count": 25,
   "metadata": {},
   "outputs": [],
   "source": [
    "\"\"\"\n",
    "x_train_features = glue_features(x_train_bert_features, x_train_len_features, x_train_emb_features, x_train_nb_features)\n",
    "x_dev_features = glue_features(x_dev_bert_features, x_dev_len_features, x_dev_emb_features, x_dev_nb_features)\n",
    "x_test_features = glue_features(x_test_bert_features, x_test_len_features, x_test_emb_features, x_test_nb_features)\n",
    "\"\"\"\n",
    "x_train_features = glue_features(x_train_bert_features, x_train_len_features, x_train_emb_features, x_train_nb_features)\n",
    "x_dev_features = glue_features(x_dev_bert_features, x_dev_len_features, x_dev_emb_features, x_dev_nb_features)\n",
    "x_test_features = glue_features(x_test_bert_features, x_test_len_features, x_test_emb_features, x_test_nb_features)\n"
   ]
  },
  {
   "cell_type": "code",
   "execution_count": 26,
   "metadata": {},
   "outputs": [
    {
     "name": "stdout",
     "output_type": "stream",
     "text": [
      "Start learning classifier...\n",
      "Done!\n"
     ]
    },
    {
     "name": "stderr",
     "output_type": "stream",
     "text": [
      "[Parallel(n_jobs=1)]: Using backend SequentialBackend with 1 concurrent workers.\n"
     ]
    },
    {
     "name": "stdout",
     "output_type": "stream",
     "text": [
      "convergence after 93 epochs took 0 seconds\n"
     ]
    },
    {
     "name": "stderr",
     "output_type": "stream",
     "text": [
      "[Parallel(n_jobs=1)]: Done   1 out of   1 | elapsed:    0.2s finished\n"
     ]
    },
    {
     "name": "stdout",
     "output_type": "stream",
     "text": [
      "              precision    recall  f1-score   support\n",
      "\n",
      "       False       0.90      0.86      0.88       663\n",
      "        True       0.55      0.65      0.59       175\n",
      "\n",
      "   micro avg       0.81      0.81      0.81       838\n",
      "   macro avg       0.72      0.75      0.74       838\n",
      "weighted avg       0.83      0.81      0.82       838\n",
      "\n"
     ]
    }
   ],
   "source": [
    "from sklearn.linear_model import LogisticRegression\n",
    "print(\"Start learning classifier...\")\n",
    "clf = LogisticRegression(random_state=1974, verbose=True, solver='saga'\n",
    "                         , class_weight='balanced'\n",
    "                        )\n",
    "print(\"Done!\")\n",
    "clf.fit(x_train_features, y_train)\n",
    "y_pred = clf.predict(x_test_features)\n",
    "y_pred_prob = clf.predict_proba(x_test_features)\n",
    "report(y_test, y_pred)"
   ]
  },
  {
   "cell_type": "code",
   "execution_count": 27,
   "metadata": {
    "scrolled": true
   },
   "outputs": [
    {
     "name": "stdout",
     "output_type": "stream",
     "text": [
      "[(False, array([0.70828695, 0.29171305])), (False, array([0.6391925, 0.3608075])), (False, array([0.64218903, 0.35781097])), (False, array([0.55066543, 0.44933457])), (True, array([0.44489996, 0.55510004])), (False, array([0.63246197, 0.36753803])), (False, array([0.77188316, 0.22811684])), (False, array([0.61437012, 0.38562988])), (False, array([0.74093489, 0.25906511])), (False, array([0.68032074, 0.31967926]))]\n"
     ]
    }
   ],
   "source": [
    "print(list(zip(y_pred[:10], y_pred_prob[:10])))"
   ]
  },
  {
   "cell_type": "markdown",
   "metadata": {},
   "source": [
    "Store results"
   ]
  },
  {
   "cell_type": "code",
   "execution_count": 28,
   "metadata": {},
   "outputs": [],
   "source": [
    "def store_pred(fn: str, pred, pred_prob):\n",
    "    with open(fn, 'wt', encoding='utf-8') as f:\n",
    "        for row in zip(pred, pred_prob):\n",
    "            b = 'true' if row[0] else 'false'\n",
    "            p = row[1][1]\n",
    "            f.write(f\"{b}\\t{p:.4f}\\n\")"
   ]
  },
  {
   "cell_type": "code",
   "execution_count": 29,
   "metadata": {},
   "outputs": [],
   "source": [
    "store_pred('../systemoutputs/PIT2015_BASELINE_SS_ALL.output', y_pred, y_pred_prob)"
   ]
  },
  {
   "cell_type": "code",
   "execution_count": 30,
   "metadata": {},
   "outputs": [
    {
     "name": "stdout",
     "output_type": "stream",
     "text": [
      "838\tBASELINE\tSS_ALL\t\tF: 0.594\tPrec: 0.545\tRec: 0.651\t\tP-corr: 0.562\tF1: 0.621\tPrec: 0.615\tRec: 0.629\n"
     ]
    }
   ],
   "source": [
    "!python pit2015_eval_single.py ../data/test.label ../systemoutputs/PIT2015_BASELINE_SS_ALL.output"
   ]
  },
  {
   "cell_type": "code",
   "execution_count": 31,
   "metadata": {},
   "outputs": [
    {
     "name": "stdout",
     "output_type": "stream",
     "text": [
      "              precision    recall  f1-score   support\n",
      "\n",
      "       False       0.76      0.82      0.79      2672\n",
      "        True       0.61      0.52      0.56      1470\n",
      "\n",
      "   micro avg       0.71      0.71      0.71      4142\n",
      "   macro avg       0.68      0.67      0.67      4142\n",
      "weighted avg       0.70      0.71      0.71      4142\n",
      "\n"
     ]
    }
   ],
   "source": [
    "y_pred_dev = clf.predict(x_dev_features)\n",
    "report(y_dev, y_pred_dev)"
   ]
  },
  {
   "cell_type": "code",
   "execution_count": 32,
   "metadata": {},
   "outputs": [
    {
     "name": "stdout",
     "output_type": "stream",
     "text": [
      "              precision    recall  f1-score   support\n",
      "\n",
      "       False       0.84      0.74      0.79      7534\n",
      "        True       0.60      0.74      0.66      3996\n",
      "\n",
      "   micro avg       0.74      0.74      0.74     11530\n",
      "   macro avg       0.72      0.74      0.72     11530\n",
      "weighted avg       0.76      0.74      0.74     11530\n",
      "\n"
     ]
    }
   ],
   "source": [
    "y_pred_tr = clf.predict(x_train_features)\n",
    "report(y_train, y_pred_tr)"
   ]
  },
  {
   "cell_type": "markdown",
   "metadata": {},
   "source": [
    "## Classifier lite"
   ]
  },
  {
   "cell_type": "code",
   "execution_count": 33,
   "metadata": {},
   "outputs": [],
   "source": [
    "x_train_features = glue_features(x_train_len_features, x_train_emb_features)\n",
    "x_dev_features = glue_features(x_dev_len_features, x_dev_emb_features)\n",
    "x_test_features = glue_features(x_test_len_features, x_test_emb_features)"
   ]
  },
  {
   "cell_type": "code",
   "execution_count": 34,
   "metadata": {},
   "outputs": [
    {
     "name": "stdout",
     "output_type": "stream",
     "text": [
      "Start learning classifier...\n",
      "Done!\n"
     ]
    },
    {
     "name": "stderr",
     "output_type": "stream",
     "text": [
      "[Parallel(n_jobs=1)]: Using backend SequentialBackend with 1 concurrent workers.\n"
     ]
    },
    {
     "name": "stdout",
     "output_type": "stream",
     "text": [
      "convergence after 15 epochs took 0 seconds\n"
     ]
    },
    {
     "name": "stderr",
     "output_type": "stream",
     "text": [
      "[Parallel(n_jobs=1)]: Done   1 out of   1 | elapsed:    0.0s finished\n"
     ]
    },
    {
     "name": "stdout",
     "output_type": "stream",
     "text": [
      "              precision    recall  f1-score   support\n",
      "\n",
      "       False       0.90      0.84      0.87       663\n",
      "        True       0.52      0.65      0.58       175\n",
      "\n",
      "   micro avg       0.80      0.80      0.80       838\n",
      "   macro avg       0.71      0.75      0.72       838\n",
      "weighted avg       0.82      0.80      0.81       838\n",
      "\n"
     ]
    }
   ],
   "source": [
    "from sklearn.linear_model import LogisticRegression\n",
    "print(\"Start learning classifier...\")\n",
    "class_weight = {True: 1.9, False:1}\n",
    "#clf = RandomForestClassifier(n_estimators=2, random_state=1974, verbose=True, class_weight='balanced')\n",
    "clf = LogisticRegression(random_state=1974, verbose=True, solver='saga'\n",
    "                         , class_weight='balanced'\n",
    "                         #, class_weight=class_weight\n",
    "                        )\n",
    "print(\"Done!\")\n",
    "clf.fit(x_train_features, y_train)\n",
    "y_pred = clf.predict(x_test_features)\n",
    "y_pred_prob = clf.predict_proba(x_test_features)\n",
    "report(y_test, y_pred)"
   ]
  },
  {
   "cell_type": "code",
   "execution_count": 35,
   "metadata": {},
   "outputs": [
    {
     "name": "stdout",
     "output_type": "stream",
     "text": [
      "838\tBASELINE\tSS_LITE\t\tF: 0.579\tPrec: 0.521\tRec: 0.651\t\tP-corr: 0.543\tF1: 0.618\tPrec: 0.658\tRec: 0.583\n"
     ]
    }
   ],
   "source": [
    "store_pred('../systemoutputs/PIT2015_BASELINE_SS_LITE.output', y_pred, y_pred_prob)\n",
    "!python pit2015_eval_single.py ../data/test.label ../systemoutputs/PIT2015_BASELINE_SS_LITE.output"
   ]
  },
  {
   "cell_type": "markdown",
   "metadata": {},
   "source": [
    "## Classifier very lite"
   ]
  },
  {
   "cell_type": "code",
   "execution_count": 36,
   "metadata": {},
   "outputs": [],
   "source": [
    "x_train_features = glue_features(x_train_emb_features)\n",
    "x_dev_features = glue_features(x_dev_emb_features)\n",
    "x_test_features = glue_features(x_test_emb_features)"
   ]
  },
  {
   "cell_type": "code",
   "execution_count": 37,
   "metadata": {},
   "outputs": [
    {
     "name": "stdout",
     "output_type": "stream",
     "text": [
      "Start learning classifier...\n",
      "Done!\n"
     ]
    },
    {
     "name": "stderr",
     "output_type": "stream",
     "text": [
      "[Parallel(n_jobs=1)]: Using backend SequentialBackend with 1 concurrent workers.\n"
     ]
    },
    {
     "name": "stdout",
     "output_type": "stream",
     "text": [
      "convergence after 15 epochs took 0 seconds\n"
     ]
    },
    {
     "name": "stderr",
     "output_type": "stream",
     "text": [
      "[Parallel(n_jobs=1)]: Done   1 out of   1 | elapsed:    0.0s finished\n"
     ]
    },
    {
     "name": "stdout",
     "output_type": "stream",
     "text": [
      "              precision    recall  f1-score   support\n",
      "\n",
      "       False       0.90      0.82      0.86       663\n",
      "        True       0.50      0.66      0.57       175\n",
      "\n",
      "   micro avg       0.79      0.79      0.79       838\n",
      "   macro avg       0.70      0.74      0.71       838\n",
      "weighted avg       0.82      0.79      0.80       838\n",
      "\n"
     ]
    }
   ],
   "source": [
    "from sklearn.linear_model import LogisticRegression\n",
    "print(\"Start learning classifier...\")\n",
    "class_weight = {True: 1.9, False:1}\n",
    "#clf = RandomForestClassifier(n_estimators=2, random_state=1974, verbose=True, class_weight='balanced')\n",
    "clf = LogisticRegression(random_state=1974, verbose=True, solver='saga'\n",
    "                         , class_weight='balanced'\n",
    "                         #, class_weight=class_weight\n",
    "                        )\n",
    "print(\"Done!\")\n",
    "clf.fit(x_train_features, y_train)\n",
    "y_pred = clf.predict(x_test_features)\n",
    "y_pred_prob = clf.predict_proba(x_test_features)\n",
    "report(y_test, y_pred)"
   ]
  },
  {
   "cell_type": "code",
   "execution_count": 38,
   "metadata": {},
   "outputs": [
    {
     "name": "stdout",
     "output_type": "stream",
     "text": [
      "838\tBASELINE\tSS_VL\t\tF: 0.569\tPrec: 0.498\tRec: 0.663\t\tP-corr: 0.520\tF1: 0.592\tPrec: 0.583\tRec: 0.600\n"
     ]
    }
   ],
   "source": [
    "store_pred('../systemoutputs/PIT2015_BASELINE_SS_VL.output', y_pred, y_pred_prob)\n",
    "!python pit2015_eval_single.py ../data/test.label ../systemoutputs/PIT2015_BASELINE_SS_VL.output"
   ]
  },
  {
   "cell_type": "markdown",
   "metadata": {},
   "source": [
    "## Classifier Numberbatch"
   ]
  },
  {
   "cell_type": "code",
   "execution_count": 39,
   "metadata": {},
   "outputs": [],
   "source": [
    "x_train_features = glue_features(x_train_nb_features)\n",
    "x_dev_features = glue_features(x_dev_nb_features)\n",
    "x_test_features = glue_features(x_test_nb_features)"
   ]
  },
  {
   "cell_type": "code",
   "execution_count": 40,
   "metadata": {},
   "outputs": [
    {
     "name": "stdout",
     "output_type": "stream",
     "text": [
      "Start learning classifier...\n",
      "Done!\n"
     ]
    },
    {
     "name": "stderr",
     "output_type": "stream",
     "text": [
      "[Parallel(n_jobs=1)]: Using backend SequentialBackend with 1 concurrent workers.\n"
     ]
    },
    {
     "name": "stdout",
     "output_type": "stream",
     "text": [
      "convergence after 13 epochs took 0 seconds\n"
     ]
    },
    {
     "name": "stderr",
     "output_type": "stream",
     "text": [
      "[Parallel(n_jobs=1)]: Done   1 out of   1 | elapsed:    0.0s finished\n"
     ]
    },
    {
     "name": "stdout",
     "output_type": "stream",
     "text": [
      "              precision    recall  f1-score   support\n",
      "\n",
      "       False       0.87      0.75      0.81       663\n",
      "        True       0.38      0.58      0.46       175\n",
      "\n",
      "   micro avg       0.72      0.72      0.72       838\n",
      "   macro avg       0.63      0.67      0.63       838\n",
      "weighted avg       0.77      0.72      0.73       838\n",
      "\n"
     ]
    }
   ],
   "source": [
    "from sklearn.linear_model import LogisticRegression\n",
    "print(\"Start learning classifier...\")\n",
    "class_weight = {True: 1.9, False:1}\n",
    "#clf = RandomForestClassifier(n_estimators=2, random_state=1974, verbose=True, class_weight='balanced')\n",
    "clf = LogisticRegression(random_state=1974, verbose=True, solver='saga'\n",
    "                         , class_weight='balanced'\n",
    "                         #, class_weight=class_weight\n",
    "                        )\n",
    "print(\"Done!\")\n",
    "clf.fit(x_train_features, y_train)\n",
    "y_pred = clf.predict(x_test_features)\n",
    "y_pred_prob = clf.predict_proba(x_test_features)\n",
    "report(y_test, y_pred)"
   ]
  },
  {
   "cell_type": "code",
   "execution_count": 41,
   "metadata": {},
   "outputs": [
    {
     "name": "stdout",
     "output_type": "stream",
     "text": [
      "838\tBASELINE\tSS_NB\t\tF: 0.462\tPrec: 0.382\tRec: 0.583\t\tP-corr: 0.392\tF1: 0.488\tPrec: 0.366\tRec: 0.731\n"
     ]
    }
   ],
   "source": [
    "store_pred('../systemoutputs/PIT2015_BASELINE_SS_NB.output', y_pred, y_pred_prob)\n",
    "!python pit2015_eval_single.py ../data/test.label ../systemoutputs/PIT2015_BASELINE_SS_NB.output"
   ]
  },
  {
   "cell_type": "markdown",
   "metadata": {},
   "source": [
    "## Classifier BERT"
   ]
  },
  {
   "cell_type": "code",
   "execution_count": 42,
   "metadata": {},
   "outputs": [],
   "source": [
    "x_train_features = glue_features(x_train_bert_features)\n",
    "x_dev_features = glue_features(x_dev_bert_features)\n",
    "x_test_features = glue_features(x_test_bert_features)"
   ]
  },
  {
   "cell_type": "code",
   "execution_count": 43,
   "metadata": {},
   "outputs": [
    {
     "name": "stdout",
     "output_type": "stream",
     "text": [
      "Start learning classifier...\n",
      "Done!\n"
     ]
    },
    {
     "name": "stderr",
     "output_type": "stream",
     "text": [
      "[Parallel(n_jobs=1)]: Using backend SequentialBackend with 1 concurrent workers.\n"
     ]
    },
    {
     "name": "stdout",
     "output_type": "stream",
     "text": [
      "convergence after 31 epochs took 0 seconds\n"
     ]
    },
    {
     "name": "stderr",
     "output_type": "stream",
     "text": [
      "[Parallel(n_jobs=1)]: Done   1 out of   1 | elapsed:    0.0s finished\n"
     ]
    },
    {
     "name": "stdout",
     "output_type": "stream",
     "text": [
      "              precision    recall  f1-score   support\n",
      "\n",
      "       False       0.89      0.15      0.26       663\n",
      "        True       0.22      0.93      0.36       175\n",
      "\n",
      "   micro avg       0.31      0.31      0.31       838\n",
      "   macro avg       0.56      0.54      0.31       838\n",
      "weighted avg       0.75      0.31      0.28       838\n",
      "\n"
     ]
    }
   ],
   "source": [
    "from sklearn.linear_model import LogisticRegression\n",
    "print(\"Start learning classifier...\")\n",
    "class_weight = {True: 1.9, False:1}\n",
    "#clf = RandomForestClassifier(n_estimators=2, random_state=1974, verbose=True, class_weight='balanced')\n",
    "clf = LogisticRegression(random_state=1974, verbose=True, solver='saga'\n",
    "                         , class_weight='balanced'\n",
    "                         #, class_weight=class_weight\n",
    "                        )\n",
    "print(\"Done!\")\n",
    "clf.fit(x_train_features, y_train)\n",
    "y_pred = clf.predict(x_test_features)\n",
    "y_pred_prob = clf.predict_proba(x_test_features)\n",
    "report(y_test, y_pred)"
   ]
  },
  {
   "cell_type": "code",
   "execution_count": 44,
   "metadata": {},
   "outputs": [
    {
     "name": "stdout",
     "output_type": "stream",
     "text": [
      "838\tBASELINE\tSS_BERT\t\tF: 0.362\tPrec: 0.225\tRec: 0.931\t\tP-corr: 0.117\tF1: 0.441\tPrec: 0.331\tRec: 0.657\n"
     ]
    }
   ],
   "source": [
    "store_pred('../systemoutputs/PIT2015_BASELINE_SS_BERT.output', y_pred, y_pred_prob)\n",
    "!python pit2015_eval_single.py ../data/test.label ../systemoutputs/PIT2015_BASELINE_SS_BERT.output"
   ]
  },
  {
   "cell_type": "markdown",
   "metadata": {},
   "source": [
    "## Classifier Numberbatch+BERT"
   ]
  },
  {
   "cell_type": "code",
   "execution_count": 45,
   "metadata": {},
   "outputs": [],
   "source": [
    "x_train_features = glue_features(x_train_bert_features, x_train_nb_features)\n",
    "x_dev_features = glue_features(x_dev_bert_features, x_dev_nb_features)\n",
    "x_test_features = glue_features(x_test_bert_features, x_test_nb_features)"
   ]
  },
  {
   "cell_type": "code",
   "execution_count": 46,
   "metadata": {},
   "outputs": [
    {
     "name": "stdout",
     "output_type": "stream",
     "text": [
      "Start learning classifier...\n",
      "Done!\n"
     ]
    },
    {
     "name": "stderr",
     "output_type": "stream",
     "text": [
      "[Parallel(n_jobs=1)]: Using backend SequentialBackend with 1 concurrent workers.\n"
     ]
    },
    {
     "name": "stdout",
     "output_type": "stream",
     "text": [
      "convergence after 35 epochs took 0 seconds\n"
     ]
    },
    {
     "name": "stderr",
     "output_type": "stream",
     "text": [
      "[Parallel(n_jobs=1)]: Done   1 out of   1 | elapsed:    0.0s finished\n"
     ]
    },
    {
     "name": "stdout",
     "output_type": "stream",
     "text": [
      "              precision    recall  f1-score   support\n",
      "\n",
      "       False       0.88      0.76      0.81       663\n",
      "        True       0.40      0.61      0.48       175\n",
      "\n",
      "   micro avg       0.73      0.73      0.73       838\n",
      "   macro avg       0.64      0.68      0.65       838\n",
      "weighted avg       0.78      0.73      0.74       838\n",
      "\n"
     ]
    }
   ],
   "source": [
    "from sklearn.linear_model import LogisticRegression\n",
    "print(\"Start learning classifier...\")\n",
    "clf = LogisticRegression(random_state=1974, verbose=True, solver='saga'\n",
    "                         , class_weight='balanced'\n",
    "                        )\n",
    "print(\"Done!\")\n",
    "clf.fit(x_train_features, y_train)\n",
    "y_pred = clf.predict(x_test_features)\n",
    "y_pred_prob = clf.predict_proba(x_test_features)\n",
    "report(y_test, y_pred)"
   ]
  },
  {
   "cell_type": "code",
   "execution_count": 47,
   "metadata": {},
   "outputs": [
    {
     "name": "stdout",
     "output_type": "stream",
     "text": [
      "838\tBASELINE\tSS_NBBERT\t\tF: 0.481\tPrec: 0.398\tRec: 0.606\t\tP-corr: 0.398\tF1: 0.487\tPrec: 0.365\tRec: 0.731\n"
     ]
    }
   ],
   "source": [
    "store_pred('../systemoutputs/PIT2015_BASELINE_SS_NBBERT.output', y_pred, y_pred_prob)\n",
    "!python pit2015_eval_single.py ../data/test.label ../systemoutputs/PIT2015_BASELINE_SS_NBBERT.output"
   ]
  },
  {
   "cell_type": "markdown",
   "metadata": {},
   "source": [
    "## Classifier by length"
   ]
  },
  {
   "cell_type": "code",
   "execution_count": 48,
   "metadata": {},
   "outputs": [],
   "source": [
    "x_train_features = glue_features(x_train_len_features)\n",
    "x_dev_features = glue_features(x_dev_len_features)\n",
    "x_test_features = glue_features(x_test_len_features)"
   ]
  },
  {
   "cell_type": "code",
   "execution_count": 49,
   "metadata": {},
   "outputs": [
    {
     "name": "stdout",
     "output_type": "stream",
     "text": [
      "Start learning classifier...\n",
      "Done!\n"
     ]
    },
    {
     "name": "stderr",
     "output_type": "stream",
     "text": [
      "[Parallel(n_jobs=1)]: Using backend SequentialBackend with 1 concurrent workers.\n"
     ]
    },
    {
     "name": "stdout",
     "output_type": "stream",
     "text": [
      "convergence after 14 epochs took 0 seconds\n"
     ]
    },
    {
     "name": "stderr",
     "output_type": "stream",
     "text": [
      "[Parallel(n_jobs=1)]: Done   1 out of   1 | elapsed:    0.0s finished\n"
     ]
    },
    {
     "name": "stdout",
     "output_type": "stream",
     "text": [
      "              precision    recall  f1-score   support\n",
      "\n",
      "       False       0.84      0.71      0.77       663\n",
      "        True       0.31      0.48      0.38       175\n",
      "\n",
      "   micro avg       0.67      0.67      0.67       838\n",
      "   macro avg       0.57      0.60      0.57       838\n",
      "weighted avg       0.73      0.67      0.69       838\n",
      "\n"
     ]
    }
   ],
   "source": [
    "from sklearn.linear_model import LogisticRegression\n",
    "print(\"Start learning classifier...\")\n",
    "clf = LogisticRegression(random_state=1974, verbose=True, solver='saga'\n",
    "                         , class_weight='balanced'\n",
    "                        )\n",
    "print(\"Done!\")\n",
    "clf.fit(x_train_features, y_train)\n",
    "y_pred = clf.predict(x_test_features)\n",
    "y_pred_prob = clf.predict_proba(x_test_features)\n",
    "report(y_test, y_pred)"
   ]
  },
  {
   "cell_type": "code",
   "execution_count": 50,
   "metadata": {},
   "outputs": [
    {
     "name": "stdout",
     "output_type": "stream",
     "text": [
      "838\tBASELINE\tSS_LEN\t\tF: 0.375\tPrec: 0.308\tRec: 0.480\t\tP-corr: 0.216\tF1: 0.392\tPrec: 0.315\tRec: 0.520\n"
     ]
    }
   ],
   "source": [
    "store_pred('../systemoutputs/PIT2015_BASELINE_SS_LEN.output', y_pred, y_pred_prob)\n",
    "!python pit2015_eval_single.py ../data/test.label ../systemoutputs/PIT2015_BASELINE_SS_LEN.output"
   ]
  },
  {
   "cell_type": "code",
   "execution_count": null,
   "metadata": {},
   "outputs": [],
   "source": []
  }
 ],
 "metadata": {
  "kernelspec": {
   "display_name": "nlp",
   "language": "python",
   "name": "nlp"
  },
  "language_info": {
   "codemirror_mode": {
    "name": "ipython",
    "version": 3
   },
   "file_extension": ".py",
   "mimetype": "text/x-python",
   "name": "python",
   "nbconvert_exporter": "python",
   "pygments_lexer": "ipython3",
   "version": "3.6.8"
  }
 },
 "nbformat": 4,
 "nbformat_minor": 2
}
